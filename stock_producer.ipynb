{
  "nbformat": 4,
  "nbformat_minor": 0,
  "metadata": {
    "colab": {
      "provenance": []
    },
    "kernelspec": {
      "name": "python3",
      "display_name": "Python 3"
    },
    "language_info": {
      "name": "python"
    }
  },
  "cells": [
    {
      "cell_type": "code",
      "execution_count": null,
      "metadata": {
        "colab": {
          "base_uri": "https://localhost:8080/"
        },
        "id": "1Ek_1F1X5_zP",
        "outputId": "0a27dc97-7030-4a3b-fc33-b3e8628507bb"
      },
      "outputs": [
        {
          "output_type": "stream",
          "name": "stdout",
          "text": [
            "Looking in indexes: https://pypi.org/simple, https://us-python.pkg.dev/colab-wheels/public/simple/\n",
            "Collecting kafka-python\n",
            "  Downloading kafka_python-2.0.2-py2.py3-none-any.whl (246 kB)\n",
            "\u001b[2K     \u001b[90m━━━━━━━━━━━━━━━━━━━━━━━━━━━━━━━━━━━━━━\u001b[0m \u001b[32m246.5/246.5 KB\u001b[0m \u001b[31m10.7 MB/s\u001b[0m eta \u001b[36m0:00:00\u001b[0m\n",
            "\u001b[?25hInstalling collected packages: kafka-python\n",
            "Successfully installed kafka-python-2.0.2\n"
          ]
        }
      ],
      "source": [
        "pip install kafka-python"
      ]
    },
    {
      "cell_type": "code",
      "source": [
        "import pandas as pd\n",
        "from kafka import KafkaProducer\n",
        "from time import sleep\n",
        "from json import dumps\n",
        "import json"
      ],
      "metadata": {
        "id": "eBsxKImF6AmC"
      },
      "execution_count": 20,
      "outputs": []
    },
    {
      "cell_type": "code",
      "source": [
        "producer=KafkaProducer(bootstrap_servers=['44.210.117.88:9092'],value_serializer=lambda x: \n",
        "                         dumps(x).encode('utf-8'))"
      ],
      "metadata": {
        "id": "iKVjE46d6J3V"
      },
      "execution_count": 22,
      "outputs": []
    },
    {
      "cell_type": "code",
      "source": [
        "df = pd.read_csv(\"indexed.csv\")"
      ],
      "metadata": {
        "id": "7SBx7nhv6wUy"
      },
      "execution_count": 23,
      "outputs": []
    },
    {
      "cell_type": "code",
      "source": [
        "df.sample(1).to_dict(orient='records')[0]"
      ],
      "metadata": {
        "colab": {
          "base_uri": "https://localhost:8080/"
        },
        "id": "XJziEUS_-oFd",
        "outputId": "26a5b844-2c0b-4f27-b4ec-d82011e901c1"
      },
      "execution_count": 24,
      "outputs": [
        {
          "output_type": "execute_result",
          "data": {
            "text/plain": [
              "{'Index': 'GDAXI',\n",
              " 'Date': '1992-07-02',\n",
              " 'Open': 1759.839966,\n",
              " 'High': 1759.839966,\n",
              " 'Low': 1759.839966,\n",
              " 'Close': 1759.839966,\n",
              " 'Adj Close': 1759.839966,\n",
              " 'Volume': 0.0,\n",
              " 'CloseUSD': 2147.00475852}"
            ]
          },
          "metadata": {},
          "execution_count": 24
        }
      ]
    },
    {
      "cell_type": "code",
      "source": [
        "while True:\n",
        "  dicti=df.sample(1).to_dict(orient='records')[0]\n",
        "  print(dicti)\n",
        "  producer.send('stockdata',dicti)\n",
        "  sleep(3)"
      ],
      "metadata": {
        "colab": {
          "base_uri": "https://localhost:8080/",
          "height": 515
        },
        "id": "IpX7BrbU8qjB",
        "outputId": "67417e50-c965-4014-b7aa-416635837ba5"
      },
      "execution_count": 26,
      "outputs": [
        {
          "output_type": "stream",
          "name": "stdout",
          "text": [
            "{'Index': 'GDAXI', 'Date': '2013-05-09', 'Open': 8232.5, 'High': 8274.179688, 'Low': 8224.519531, 'Close': 8262.549805, 'Adj Close': 8262.549805, 'Volume': 57870900.0, 'CloseUSD': 10080.3107621}\n",
            "{'Index': 'GSPTSE', 'Date': '1995-11-28', 'Open': 4661.5, 'High': 4674.200195, 'Low': 4653.700195, 'Close': 4674.200195, 'Adj Close': 4674.200195, 'Volume': 70090000.0, 'CloseUSD': 3879.58616185}\n",
            "{'Index': 'NYA', 'Date': '2003-01-30', 'Open': 4865.959961, 'High': 4873.120117, 'Low': 4780.990234, 'Close': 4784.439941, 'Adj Close': 4784.439941, 'Volume': 1505600000.0, 'CloseUSD': 4784.439941}\n",
            "{'Index': 'IXIC', 'Date': '2005-10-03', 'Open': 2152.699951, 'High': 2162.790039, 'Low': 2152.590088, 'Close': 2155.429932, 'Adj Close': 2155.429932, 'Volume': 1794420000.0, 'CloseUSD': 2155.429932}\n",
            "{'Index': 'NYA', 'Date': '2018-12-13', 'Open': 11985.78027, 'High': 12011.40039, 'Low': 11892.78027, 'Close': 11936.16016, 'Adj Close': 11936.16016, 'Volume': 3927720000.0, 'CloseUSD': 11936.16016}\n",
            "{'Index': 'SSMI', 'Date': '2006-03-06', 'Open': 7941.0, 'High': 7949.600098, 'Low': 7913.600098, 'Close': 7917.200195, 'Adj Close': 7917.200195, 'Volume': 55962400.0, 'CloseUSD': 8788.09221645}\n",
            "{'Index': 'HSI', 'Date': '2003-05-21', 'Open': 9069.339844, 'High': 9086.360352, 'Low': 9020.769531, 'Close': 9059.799805, 'Adj Close': 9059.799805, 'Volume': 201113200.0, 'CloseUSD': 1177.77397465}\n",
            "{'Index': 'GDAXI', 'Date': '2005-08-31', 'Open': 4795.299805, 'High': 4834.899902, 'Low': 4791.470215, 'Close': 4829.689941, 'Adj Close': 4829.689941, 'Volume': 111632100.0, 'CloseUSD': 5892.221728019999}\n",
            "{'Index': 'HSI', 'Date': '1987-08-18', 'Open': 3504.899902, 'High': 3504.899902, 'Low': 3504.899902, 'Close': 3504.899902, 'Adj Close': 3504.899902, 'Volume': 0.0, 'CloseUSD': 455.63698726}\n",
            "{'Index': 'HSI', 'Date': '1988-12-21', 'Open': 2633.100098, 'High': 2633.100098, 'Low': 2633.100098, 'Close': 2633.100098, 'Adj Close': 2633.100098, 'Volume': 0.0, 'CloseUSD': 342.30301274}\n",
            "{'Index': 'GDAXI', 'Date': '2020-07-21', 'Open': 13194.92969, 'High': 13313.90039, 'Low': 13147.29981, 'Close': 13171.83008, 'Adj Close': 13171.83008, 'Volume': 92171700.0, 'CloseUSD': 16069.6326976}\n",
            "{'Index': 'NYA', 'Date': '2008-04-11', 'Open': 9096.860352, 'High': 9096.860352, 'Low': 8924.719727, 'Close': 8936.110352, 'Adj Close': 8936.110352, 'Volume': 3723790000.0, 'CloseUSD': 8936.110352}\n",
            "{'Index': 'SSMI', 'Date': '2019-08-02', 'Open': 9767.790039, 'High': 9873.400391, 'Low': 9743.830078, 'Close': 9803.69043, 'Adj Close': 9803.69043, 'Volume': 115259400.0, 'CloseUSD': 10882.096377300002}\n",
            "{'Index': '399001.SZ', 'Date': '1998-02-26', 'Open': 4021.159912, 'High': 4097.209961, 'Low': 4005.780029, 'Close': 4077.179932, 'Adj Close': 4077.134277, 'Volume': 0.0, 'CloseUSD': 652.34878912}\n",
            "{'Index': 'NYA', 'Date': '1970-07-07', 'Open': 409.200012, 'High': 409.200012, 'Low': 409.200012, 'Close': 409.200012, 'Adj Close': 409.200012, 'Volume': 0.0, 'CloseUSD': 409.200012}\n",
            "{'Index': 'IXIC', 'Date': '2001-03-30', 'Open': 1830.420044, 'High': 1855.579956, 'Low': 1794.300049, 'Close': 1840.26001, 'Adj Close': 1840.26001, 'Volume': 2139050000.0, 'CloseUSD': 1840.26001}\n",
            "{'Index': 'IXIC', 'Date': '2002-12-12', 'Open': 1407.02002, 'High': 1411.689941, 'Low': 1388.51001, 'Close': 1399.550049, 'Adj Close': 1399.550049, 'Volume': 1408220000.0, 'CloseUSD': 1399.550049}\n"
          ]
        },
        {
          "output_type": "error",
          "ename": "KeyboardInterrupt",
          "evalue": "ignored",
          "traceback": [
            "\u001b[0;31m---------------------------------------------------------------------------\u001b[0m",
            "\u001b[0;31mKeyboardInterrupt\u001b[0m                         Traceback (most recent call last)",
            "\u001b[0;32m<ipython-input-26-4de2deb39459>\u001b[0m in \u001b[0;36m<module>\u001b[0;34m\u001b[0m\n\u001b[1;32m      3\u001b[0m   \u001b[0mprint\u001b[0m\u001b[0;34m(\u001b[0m\u001b[0mdicti\u001b[0m\u001b[0;34m)\u001b[0m\u001b[0;34m\u001b[0m\u001b[0;34m\u001b[0m\u001b[0m\n\u001b[1;32m      4\u001b[0m   \u001b[0mproducer\u001b[0m\u001b[0;34m.\u001b[0m\u001b[0msend\u001b[0m\u001b[0;34m(\u001b[0m\u001b[0;34m'stockdata'\u001b[0m\u001b[0;34m,\u001b[0m\u001b[0mdicti\u001b[0m\u001b[0;34m)\u001b[0m\u001b[0;34m\u001b[0m\u001b[0;34m\u001b[0m\u001b[0m\n\u001b[0;32m----> 5\u001b[0;31m   \u001b[0msleep\u001b[0m\u001b[0;34m(\u001b[0m\u001b[0;36m3\u001b[0m\u001b[0;34m)\u001b[0m\u001b[0;34m\u001b[0m\u001b[0;34m\u001b[0m\u001b[0m\n\u001b[0m",
            "\u001b[0;31mKeyboardInterrupt\u001b[0m: "
          ]
        }
      ]
    },
    {
      "cell_type": "code",
      "source": [],
      "metadata": {
        "id": "i_EFPf-DAdFh"
      },
      "execution_count": null,
      "outputs": []
    }
  ]
}